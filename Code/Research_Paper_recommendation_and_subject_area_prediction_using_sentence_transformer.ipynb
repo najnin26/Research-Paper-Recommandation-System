{
  "cells": [
    {
      "cell_type": "markdown",
      "id": "118cec97",
      "metadata": {
        "id": "118cec97"
      },
      "source": [
        "# This Notebook Perform two things...........\n",
        "\n",
        "# 1 Section:                                                                 \n",
        "Research Area Subject Area Prediction (Large Scale classification) using shallow Multi-Layer Perceptron (MLP) model\n",
        "\n",
        "# 2 Section:\n",
        "Research Paper Recommendation for reading: using sentence transformer model\n",
        "\n",
        "Research Papers dataset link::\n",
        "https://www.kaggle.com/datasets/spsayakpaul/arxiv-paper-abstracts/data\n"
      ]
    },
    {
      "cell_type": "code",
      "execution_count": 1,
      "id": "OoS0rqNNZdJ3",
      "metadata": {
        "colab": {
          "base_uri": "https://localhost:8080/"
        },
        "id": "OoS0rqNNZdJ3",
        "outputId": "b39430e0-54d1-430e-d244-ee0c8cfb0a87"
      },
      "outputs": [
        {
          "name": "stdout",
          "output_type": "stream",
          "text": [
            "Drive already mounted at /content/drive; to attempt to forcibly remount, call drive.mount(\"/content/drive\", force_remount=True).\n"
          ]
        }
      ],
      "source": [
        "from google.colab import drive\n",
        "drive.mount('/content/drive')"
      ]
    },
    {
      "cell_type": "markdown",
      "id": "2b7cb120",
      "metadata": {
        "id": "2b7cb120"
      },
      "source": [
        "# 1 Section:                                                                 "
      ]
    },
    {
      "cell_type": "markdown",
      "id": "5adda69d",
      "metadata": {
        "id": "5adda69d"
      },
      "source": [
        "# Loading tools and dataset"
      ]
    },
    {
      "cell_type": "code",
      "execution_count": 1,
      "id": "a0cb9160",
      "metadata": {
        "id": "a0cb9160"
      },
      "outputs": [
        {
          "name": "stderr",
          "output_type": "stream",
          "text": [
            "2024-06-16 15:35:56.109856: I tensorflow/core/util/port.cc:113] oneDNN custom operations are on. You may see slightly different numerical results due to floating-point round-off errors from different computation orders. To turn them off, set the environment variable `TF_ENABLE_ONEDNN_OPTS=0`.\n",
            "2024-06-16 15:35:59.358756: E external/local_xla/xla/stream_executor/cuda/cuda_dnn.cc:9261] Unable to register cuDNN factory: Attempting to register factory for plugin cuDNN when one has already been registered\n",
            "2024-06-16 15:35:59.358854: E external/local_xla/xla/stream_executor/cuda/cuda_fft.cc:607] Unable to register cuFFT factory: Attempting to register factory for plugin cuFFT when one has already been registered\n",
            "2024-06-16 15:35:59.668495: E external/local_xla/xla/stream_executor/cuda/cuda_blas.cc:1515] Unable to register cuBLAS factory: Attempting to register factory for plugin cuBLAS when one has already been registered\n",
            "2024-06-16 15:36:00.566516: I tensorflow/core/platform/cpu_feature_guard.cc:182] This TensorFlow binary is optimized to use available CPU instructions in performance-critical operations.\n",
            "To enable the following instructions: AVX2 AVX512F AVX512_VNNI FMA, in other operations, rebuild TensorFlow with the appropriate compiler flags.\n",
            "2024-06-16 15:36:04.269226: W tensorflow/compiler/tf2tensorrt/utils/py_utils.cc:38] TF-TRT Warning: Could not find TensorRT\n"
          ]
        }
      ],
      "source": [
        "from tensorflow.keras import layers\n",
        "from tensorflow import keras\n",
        "import tensorflow as tf\n",
        "\n",
        "from sklearn.model_selection import train_test_split\n",
        "\n",
        "from ast import literal_eval\n",
        "# is used for safely evaluating strings containing Python literals or container displays\n",
        "# (e.g., lists, dictionaries) to their corresponding Python objects.\n",
        "\n",
        "import matplotlib.pyplot as plt\n",
        "import pandas as pd\n",
        "import numpy as np"
      ]
    },
    {
      "cell_type": "code",
      "execution_count": 2,
      "id": "130dc39f",
      "metadata": {
        "id": "130dc39f"
      },
      "outputs": [],
      "source": [
        "arxiv_data = pd.read_csv(\"arxiv_data_210930-054931.csv\")"
      ]
    },
    {
      "cell_type": "code",
      "execution_count": 3,
      "id": "6a912841",
      "metadata": {
        "colab": {
          "base_uri": "https://localhost:8080/",
          "height": 293
        },
        "id": "6a912841",
        "outputId": "8f35d8bb-baaa-4651-8ac4-55e8ed082459"
      },
      "outputs": [
        {
          "data": {
            "text/html": [
              "<div>\n",
              "<style scoped>\n",
              "    .dataframe tbody tr th:only-of-type {\n",
              "        vertical-align: middle;\n",
              "    }\n",
              "\n",
              "    .dataframe tbody tr th {\n",
              "        vertical-align: top;\n",
              "    }\n",
              "\n",
              "    .dataframe thead th {\n",
              "        text-align: right;\n",
              "    }\n",
              "</style>\n",
              "<table border=\"1\" class=\"dataframe\">\n",
              "  <thead>\n",
              "    <tr style=\"text-align: right;\">\n",
              "      <th></th>\n",
              "      <th>terms</th>\n",
              "      <th>titles</th>\n",
              "      <th>abstracts</th>\n",
              "    </tr>\n",
              "  </thead>\n",
              "  <tbody>\n",
              "    <tr>\n",
              "      <th>0</th>\n",
              "      <td>['cs.LG']</td>\n",
              "      <td>Multi-Level Attention Pooling for Graph Neural...</td>\n",
              "      <td>Graph neural networks (GNNs) have been widely ...</td>\n",
              "    </tr>\n",
              "    <tr>\n",
              "      <th>1</th>\n",
              "      <td>['cs.LG', 'cs.AI']</td>\n",
              "      <td>Decision Forests vs. Deep Networks: Conceptual...</td>\n",
              "      <td>Deep networks and decision forests (such as ra...</td>\n",
              "    </tr>\n",
              "    <tr>\n",
              "      <th>2</th>\n",
              "      <td>['cs.LG', 'cs.CR', 'stat.ML']</td>\n",
              "      <td>Power up! Robust Graph Convolutional Network v...</td>\n",
              "      <td>Graph convolutional networks (GCNs) are powerf...</td>\n",
              "    </tr>\n",
              "    <tr>\n",
              "      <th>3</th>\n",
              "      <td>['cs.LG', 'cs.CR']</td>\n",
              "      <td>Releasing Graph Neural Networks with Different...</td>\n",
              "      <td>With the increasing popularity of Graph Neural...</td>\n",
              "    </tr>\n",
              "    <tr>\n",
              "      <th>4</th>\n",
              "      <td>['cs.LG']</td>\n",
              "      <td>Recurrence-Aware Long-Term Cognitive Network f...</td>\n",
              "      <td>Machine learning solutions for pattern classif...</td>\n",
              "    </tr>\n",
              "  </tbody>\n",
              "</table>\n",
              "</div>"
            ],
            "text/plain": [
              "                           terms  \\\n",
              "0                      ['cs.LG']   \n",
              "1             ['cs.LG', 'cs.AI']   \n",
              "2  ['cs.LG', 'cs.CR', 'stat.ML']   \n",
              "3             ['cs.LG', 'cs.CR']   \n",
              "4                      ['cs.LG']   \n",
              "\n",
              "                                              titles  \\\n",
              "0  Multi-Level Attention Pooling for Graph Neural...   \n",
              "1  Decision Forests vs. Deep Networks: Conceptual...   \n",
              "2  Power up! Robust Graph Convolutional Network v...   \n",
              "3  Releasing Graph Neural Networks with Different...   \n",
              "4  Recurrence-Aware Long-Term Cognitive Network f...   \n",
              "\n",
              "                                           abstracts  \n",
              "0  Graph neural networks (GNNs) have been widely ...  \n",
              "1  Deep networks and decision forests (such as ra...  \n",
              "2  Graph convolutional networks (GCNs) are powerf...  \n",
              "3  With the increasing popularity of Graph Neural...  \n",
              "4  Machine learning solutions for pattern classif...  "
            ]
          },
          "execution_count": 3,
          "metadata": {},
          "output_type": "execute_result"
        }
      ],
      "source": [
        "arxiv_data.head()"
      ]
    },
    {
      "cell_type": "markdown",
      "id": "796e8c0b",
      "metadata": {
        "id": "796e8c0b"
      },
      "source": [
        "# Data Cleaning and Preprocessing"
      ]
    },
    {
      "cell_type": "code",
      "execution_count": 4,
      "id": "0f6ce7b0",
      "metadata": {
        "colab": {
          "base_uri": "https://localhost:8080/"
        },
        "id": "0f6ce7b0",
        "outputId": "ff633835-b548-4de6-c493-2a9ba3719254"
      },
      "outputs": [
        {
          "data": {
            "text/plain": [
              "(56181, 3)"
            ]
          },
          "execution_count": 4,
          "metadata": {},
          "output_type": "execute_result"
        }
      ],
      "source": [
        "arxiv_data.shape"
      ]
    },
    {
      "cell_type": "code",
      "execution_count": 5,
      "id": "9dd86c28",
      "metadata": {
        "colab": {
          "base_uri": "https://localhost:8080/"
        },
        "id": "9dd86c28",
        "outputId": "bc3242c3-117a-4839-abfd-c89c9f2d7925"
      },
      "outputs": [
        {
          "data": {
            "text/plain": [
              "terms        0\n",
              "titles       0\n",
              "abstracts    0\n",
              "dtype: int64"
            ]
          },
          "execution_count": 5,
          "metadata": {},
          "output_type": "execute_result"
        }
      ],
      "source": [
        "arxiv_data.isnull().sum()"
      ]
    },
    {
      "cell_type": "code",
      "execution_count": 6,
      "id": "efcdf227",
      "metadata": {
        "colab": {
          "base_uri": "https://localhost:8080/"
        },
        "id": "efcdf227",
        "outputId": "def49251-7991-45e4-921a-cd564e43a88e"
      },
      "outputs": [
        {
          "data": {
            "text/plain": [
              "15054"
            ]
          },
          "execution_count": 6,
          "metadata": {},
          "output_type": "execute_result"
        }
      ],
      "source": [
        "arxiv_data.duplicated().sum()"
      ]
    },
    {
      "cell_type": "code",
      "execution_count": 7,
      "id": "c14beaba",
      "metadata": {
        "colab": {
          "base_uri": "https://localhost:8080/"
        },
        "id": "c14beaba",
        "outputId": "295f54d3-64b3-4a5c-a7e1-0f9771d5015e"
      },
      "outputs": [
        {
          "name": "stdout",
          "output_type": "stream",
          "text": [
            "labels : ['cs.LG' 'cs.AI' 'cs.CR' ... 'D.1.3; G.4; I.2.8; I.2.11; I.5.3; J.3'\n",
            " '68T07, 68T45, 68T10, 68T50, 68U35' 'I.2.0; G.3']\n",
            "lenght : 1177\n"
          ]
        }
      ],
      "source": [
        "# getting unique labels\n",
        "labels_column = arxiv_data['terms'].apply(literal_eval)\n",
        "labels = labels_column.explode().unique()\n",
        "print(\"labels :\",labels)\n",
        "print(\"lenght :\",len(labels))"
      ]
    },
    {
      "cell_type": "code",
      "execution_count": 8,
      "id": "d52c4165",
      "metadata": {
        "colab": {
          "base_uri": "https://localhost:8080/"
        },
        "id": "d52c4165",
        "outputId": "d84ab5e8-e876-4cb5-99ef-1b2f9328c412"
      },
      "outputs": [
        {
          "name": "stdout",
          "output_type": "stream",
          "text": [
            "There are 41105 rows in the deduplicated dataset.\n",
            "2503\n",
            "3401\n"
          ]
        }
      ],
      "source": [
        "# remove duplicate entries based on the \"titles\" (terms) column\n",
        "# This filters the DataFrame, keeping only the rows where the titles are not duplicated.\n",
        "arxiv_data = arxiv_data[~arxiv_data['titles'].duplicated()]\n",
        "print(f\"There are {len(arxiv_data)} rows in the deduplicated dataset.\")\n",
        "# There are some terms with occurrence as low as 1.\n",
        "print(sum(arxiv_data['terms'].value_counts()==1))\n",
        "# how many unique terms\n",
        "print(arxiv_data['terms'].nunique())"
      ]
    },
    {
      "cell_type": "code",
      "execution_count": 9,
      "id": "5883bdf4",
      "metadata": {
        "colab": {
          "base_uri": "https://localhost:8080/"
        },
        "id": "5883bdf4",
        "outputId": "9d8aa7ad-4932-4b6f-82fa-37a3f54a120a"
      },
      "outputs": [
        {
          "data": {
            "text/plain": [
              "(38602, 3)"
            ]
          },
          "execution_count": 9,
          "metadata": {},
          "output_type": "execute_result"
        }
      ],
      "source": [
        "# Filtering the rare terms. (it keeps only those rows where the \"terms\" value occurs more than once in the original DataFrame.)\n",
        "arxiv_data_filtered = arxiv_data.groupby('terms').filter(lambda x: len(x) > 1)\n",
        "arxiv_data_filtered.shape"
      ]
    },
    {
      "cell_type": "code",
      "execution_count": 10,
      "id": "a8e35864",
      "metadata": {
        "colab": {
          "base_uri": "https://localhost:8080/"
        },
        "id": "a8e35864",
        "outputId": "7e30418a-3d1e-4420-e17f-ae8163a5cd82"
      },
      "outputs": [
        {
          "data": {
            "text/plain": [
              "array([list(['cs.LG']), list(['cs.LG', 'cs.AI']),\n",
              "       list(['cs.LG', 'cs.CR', 'stat.ML'])], dtype=object)"
            ]
          },
          "execution_count": 10,
          "metadata": {},
          "output_type": "execute_result"
        }
      ],
      "source": [
        "# It evaluates the given string containing a Python literal or container display (e.g., a list or dictionary) and returns the corresponding Python object.\n",
        "arxiv_data_filtered['terms'] = arxiv_data_filtered['terms'].apply(lambda x: literal_eval(x))\n",
        "arxiv_data_filtered['terms'].values[:3]"
      ]
    },
    {
      "cell_type": "markdown",
      "id": "22ba3861",
      "metadata": {
        "id": "22ba3861"
      },
      "source": [
        "# train and test split."
      ]
    },
    {
      "cell_type": "code",
      "execution_count": 11,
      "id": "fd52b83c",
      "metadata": {
        "colab": {
          "base_uri": "https://localhost:8080/"
        },
        "id": "fd52b83c",
        "outputId": "3738e288-850b-4b5b-bd9c-feea1d6b5c27"
      },
      "outputs": [
        {
          "name": "stdout",
          "output_type": "stream",
          "text": [
            "Number of rows in training set: 34741\n",
            "Number of rows in validation set: 1930\n",
            "Number of rows in test set: 1931\n"
          ]
        }
      ],
      "source": [
        "test_split = 0.1\n",
        "\n",
        "# Initial train and test split.\n",
        "# The stratify parameter ensures that the splitting is done in a way that preserves the same distribution of labels (terms) in both the training and test sets.\n",
        "train_df, test_df = train_test_split(arxiv_data_filtered,test_size=test_split,stratify=arxiv_data_filtered[\"terms\"].values,)\n",
        "\n",
        "# Splitting the test set further into validation\n",
        "# and new test sets.\n",
        "val_df = test_df.sample(frac=0.5)\n",
        "test_df.drop(val_df.index, inplace=True)\n",
        "\n",
        "print(f\"Number of rows in training set: {len(train_df)}\")\n",
        "print(f\"Number of rows in validation set: {len(val_df)}\")\n",
        "print(f\"Number of rows in test set: {len(test_df)}\")"
      ]
    },
    {
      "cell_type": "code",
      "execution_count": 12,
      "id": "ee848e0d",
      "metadata": {
        "colab": {
          "base_uri": "https://localhost:8080/"
        },
        "id": "ee848e0d",
        "outputId": "36305f43-eaa0-49f4-a36b-d54f7637a0c9"
      },
      "outputs": [
        {
          "name": "stdout",
          "output_type": "stream",
          "text": [
            "Vocabulary:\n",
            "\n",
            "['[UNK]', 'cs.CV', 'cs.LG', 'stat.ML', 'cs.AI', 'eess.IV', 'cs.RO', 'cs.CL', 'cs.NE', 'cs.GR', 'cs.CR', 'math.OC', 'eess.SP', 'cs.SI', 'cs.MM', 'cs.SY', 'cs.IR', 'eess.SY', 'cs.MA', 'cs.HC', 'math.IT', 'cs.IT', 'cs.DC', 'stat.AP', 'cs.CY', 'stat.ME', 'stat.TH', 'math.ST', 'eess.AS', 'cs.SD', 'cs.DS', 'q-bio.QM', 'q-bio.NC', 'cs.CG', 'stat.CO', 'cs.GT', 'cs.NI', 'math.NA', 'cs.SE', 'I.2.6', 'cs.NA', 'physics.chem-ph', 'cs.DB', 'physics.comp-ph', 'cond-mat.dis-nn', 'q-bio.BM', 'math.PR', 'cs.PL', 'cs.LO', '68T45', 'cs.AR', 'physics.data-an', 'quant-ph', 'I.2.10', 'cs.CE', 'cond-mat.stat-mech', 'q-fin.ST', 'math.DS', 'I.4.6', 'physics.ao-ph', 'cs.CC', '68T05', 'physics.soc-ph', 'physics.med-ph', 'cs.PF', 'cs.DM', 'econ.EM', 'I.4.8', 'q-bio.GN', 'astro-ph.IM', 'physics.flu-dyn', 'math.AT', 'hep-ex', 'I.4', '68U10', 'q-fin.TR', 'physics.geo-ph', 'cs.FL', 'I.5.4', 'I.2', 'cond-mat.mtrl-sci', 'I.4.9', '68T10', 'q-fin.CP', 'physics.optics', 'I.4; I.5', '68T07', 'math.AP', 'I.2.6; I.2.8', '65D19', 'q-bio.PE', 'physics.app-ph', 'nlin.CD', 'math.CO', 'cs.MS', 'I.4.5', 'I.2.6; I.5.1', 'I.2.10; I.4; I.5', 'I.2.0; I.2.6', '68U01', '68T01', 'hep-ph', 'cs.SC', 'cs.ET', 'K.3.2', 'I.2.8', '68T30', 'q-fin.GN', 'q-fin.EC', 'q-bio.MN', 'econ.GN', 'I.4.9; I.5.4', 'I.4.0', 'I.2; I.5', 'I.2; I.4; I.5', 'I.2.6; I.2.7', 'I.2.10; I.4.8', '68T99', '68Q32', '68', '62H30', 'q-fin.RM', 'q-fin.PM', 'q-bio.TO', 'q-bio.OT', 'physics.plasm-ph', 'physics.class-ph', 'physics.bio-ph', 'nlin.AO', 'math.SP', 'math.MP', 'math.LO', 'math.FA', 'math-ph', 'cs.DL', 'cond-mat.soft', 'I.5.2', 'I.4.6; I.4.8', 'I.4.4', 'I.4.3', 'I.4.1', 'I.3.7', 'I.2; J.2', 'I.2; I.2.6; I.2.7', 'I.2.7', 'I.2.6; I.5.4', 'I.2.6; I.2.9', 'I.2.6; I.2.7; H.3.1; H.3.3', 'I.2.6; I.2.10', 'I.2.6, I.5.4', 'I.2.1; J.3', 'I.2.10; I.5.1; I.4.8', 'I.2.10; I.4.8; I.5.4', 'I.2.10; I.2.6', 'I.2.1', 'H.3.1; I.2.6; I.2.7', 'H.3.1; H.3.3; I.2.6; I.2.7', 'G.3', 'F.2.2; I.2.7', 'E.5; E.4; E.2; H.1.1; F.1.1; F.1.3', '68Txx', '62H99', '62H35', '60L10, 60L20', '14J60 (Primary) 14F05, 14J26 (Secondary)']\n"
          ]
        }
      ],
      "source": [
        "# creates a TensorFlow RaggedTensor (terms) from the values in the \"terms\" column of the train_df DataFrame. A RaggedTensor is a tensor with non-uniform shapes\n",
        "terms = tf.ragged.constant(train_df['terms'].values)\n",
        "# This line creates a StringLookup layer in TensorFlow. The purpose of this layer is to map strings to integer indices and vice versa. The output_mode=\"multi_hot\" indicates that the layer will output a multi-hot encoded representation of the input strings.\n",
        "lookup = tf.keras.layers.StringLookup(output_mode='multi_hot')\n",
        "# This step adapts the StringLookup layer to the unique values in the \"terms\" column, building the vocabulary.\n",
        "lookup.adapt(terms)\n",
        "# retrieve vocabulary\n",
        "vocab = lookup.get_vocabulary()\n",
        "\n",
        "print(\"Vocabulary:\\n\")\n",
        "print(vocab)"
      ]
    },
    {
      "cell_type": "code",
      "execution_count": 13,
      "id": "bd32a8c9",
      "metadata": {
        "colab": {
          "base_uri": "https://localhost:8080/"
        },
        "id": "bd32a8c9",
        "outputId": "2e4c6ad3-ea9d-468a-8c48-e205abf2c90a"
      },
      "outputs": [
        {
          "name": "stdout",
          "output_type": "stream",
          "text": [
            "Original label: ['cs.CV']\n"
          ]
        },
        {
          "name": "stdout",
          "output_type": "stream",
          "text": [
            "Label-binarized representation: [[0. 1. 0. 0. 0. 0. 0. 0. 0. 0. 0. 0. 0. 0. 0. 0. 0. 0. 0. 0. 0. 0. 0. 0.\n",
            "  0. 0. 0. 0. 0. 0. 0. 0. 0. 0. 0. 0. 0. 0. 0. 0. 0. 0. 0. 0. 0. 0. 0. 0.\n",
            "  0. 0. 0. 0. 0. 0. 0. 0. 0. 0. 0. 0. 0. 0. 0. 0. 0. 0. 0. 0. 0. 0. 0. 0.\n",
            "  0. 0. 0. 0. 0. 0. 0. 0. 0. 0. 0. 0. 0. 0. 0. 0. 0. 0. 0. 0. 0. 0. 0. 0.\n",
            "  0. 0. 0. 0. 0. 0. 0. 0. 0. 0. 0. 0. 0. 0. 0. 0. 0. 0. 0. 0. 0. 0. 0. 0.\n",
            "  0. 0. 0. 0. 0. 0. 0. 0. 0. 0. 0. 0. 0. 0. 0. 0. 0. 0. 0. 0. 0. 0. 0. 0.\n",
            "  0. 0. 0. 0. 0. 0. 0. 0. 0. 0. 0. 0. 0. 0. 0. 0. 0. 0. 0. 0. 0.]]\n"
          ]
        }
      ],
      "source": [
        "sample_label = train_df[\"terms\"].iloc[0]\n",
        "print(f\"Original label: {sample_label}\")\n",
        "\n",
        "label_binarized = lookup([sample_label])\n",
        "print(f\"Label-binarized representation: {label_binarized}\")"
      ]
    },
    {
      "cell_type": "code",
      "execution_count": 14,
      "id": "120e17de",
      "metadata": {
        "colab": {
          "base_uri": "https://localhost:8080/",
          "height": 87
        },
        "id": "120e17de",
        "outputId": "d1e14d7e-87cf-4ade-b490-553113ea17bd"
      },
      "outputs": [
        {
          "data": {
            "text/plain": [
              "'\\nIn summary, the make_dataset function is designed to create a\\ndataset suitable for training a model. It takes a dataframe as input,\\nassumes it has \"abstracts\" and \"terms\" columns, and creates a dataset of\\nbatches where each batch consists of abstract\\nsequences and their corresponding binarized label sequences.\\n'"
            ]
          },
          "execution_count": 14,
          "metadata": {},
          "output_type": "execute_result"
        }
      ],
      "source": [
        "# following lines::\n",
        "# which is used for automatic adjustment of resource usage by TensorFlow's data loading pipeline.\n",
        "\n",
        "#max_seqlen: Maximum sequence length. It indicates the maximum length allowed for sequences.\n",
        "max_seqlen = 150\n",
        "#batch_size: Batch size. It specifies the number of samples to use in each iteration.\n",
        "batch_size = 128\n",
        "#padding_token: A token used for padding sequences.\n",
        "padding_token = \"<pad>\"\n",
        "#auto = tf.data.AUTOTUNE: auto is assigned the value tf.data.AUTOTUNE,\n",
        "auto = tf.data.AUTOTUNE\n",
        "\n",
        "def make_dataset(dataframe, is_train=True):\n",
        "    # creating sequences of labesls\n",
        "    labels = tf.ragged.constant(dataframe[\"terms\"].values)\n",
        "    #This line uses the previously defined lookup layer to convert the ragged tensor of labels into a binarized representation. The resulting label_binarized is a NumPy array.\n",
        "    label_binarized = lookup(labels).numpy()\n",
        "    # creating sequences of text.\n",
        "    dataset = tf.data.Dataset.from_tensor_slices((dataframe[\"abstracts\"].values, label_binarized))\n",
        "    # shuffling data basis on condition\n",
        "    dataset = dataset.shuffle(batch_size * 10) if is_train else dataset\n",
        "    return dataset.batch(batch_size)\n",
        "\n",
        "\"\"\"\n",
        "In summary, the make_dataset function is designed to create a\n",
        "dataset suitable for training a model. It takes a dataframe as input,\n",
        "assumes it has \"abstracts\" and \"terms\" columns, and creates a dataset of\n",
        "batches where each batch consists of abstract\n",
        "sequences and their corresponding binarized label sequences.\n",
        "\"\"\""
      ]
    },
    {
      "cell_type": "code",
      "execution_count": 15,
      "id": "6c36ee52",
      "metadata": {
        "id": "6c36ee52"
      },
      "outputs": [],
      "source": [
        "train_dataset = make_dataset(train_df, is_train=True)\n",
        "validation_dataset = make_dataset(val_df, is_train=False)\n",
        "test_dataset = make_dataset(test_df, is_train=False)"
      ]
    },
    {
      "cell_type": "code",
      "execution_count": 16,
      "id": "dcb2bf5c",
      "metadata": {
        "id": "dcb2bf5c"
      },
      "outputs": [],
      "source": [
        "def invert_multi_hot(encoded_labels):\n",
        "    \"\"\"Reverse a single multi-hot encoded label to a tuple of vocab terms.\"\"\"\n",
        "    hot_indices = np.argwhere(encoded_labels == 1.0)[..., 0]\n",
        "    return np.take(vocab, hot_indices)"
      ]
    },
    {
      "cell_type": "code",
      "execution_count": 17,
      "id": "d409c7bf",
      "metadata": {
        "colab": {
          "base_uri": "https://localhost:8080/"
        },
        "id": "d409c7bf",
        "outputId": "290a03b4-8179-461f-acd4-146e7a01fa2e"
      },
      "outputs": [
        {
          "name": "stdout",
          "output_type": "stream",
          "text": [
            "Abstract: b'The widely adopted sequential variant of Non Maximum Suppression (or\\nGreedy-NMS) is a crucial module for object-detection pipelines. Unfortunately,\\nfor the region proposal stage of two/multi-stage detectors, NMS is turning out\\nto be a latency bottleneck due to its sequential nature. In this article, we\\ncarefully profile Greedy-NMS iterations to find that a major chunk of\\ncomputation is wasted in comparing proposals that are already far-away and have\\na small chance of suppressing each other. We address this issue by comparing\\nonly those proposals that are generated from nearby anchors. The\\ntranslation-invariant property of the anchor lattice affords generation of a\\nlookup table, which provides an efficient access to nearby proposals, during\\nNMS. This leads to an Accelerated NMS algorithm which leverages Spatially Aware\\nPriors, or ASAP-NMS, and improves the latency of the NMS step from 13.6ms to\\n1.2 ms on a CPU without sacrificing the accuracy of a state-of-the-art\\ntwo-stage detector on COCO and VOC datasets. Importantly, ASAP-NMS is agnostic\\nto image resolution and can be used as a simple drop-in module during\\ninference. Using ASAP-NMS at run-time only, we obtain an mAP of 44.2\\\\%@25Hz on\\nthe COCO dataset with a V100 GPU.'\n",
            "Label(s): ['cs.CV']\n",
            " \n",
            "Abstract: b'With the increasing popularity of augmented and virtual reality, retailers\\nare now focusing more towards customer satisfaction to increase the amount of\\nsales. Although augmented reality is not a new concept but it has gained much\\nneeded attention over the past few years. Our present work is targeted towards\\nthis direction which may be used to enhance user experience in various virtual\\nand augmented reality based applications. We propose a model to change skin\\ntone of a person. Given any input image of a person or a group of persons with\\nsome value indicating the desired change of skin color towards fairness or\\ndarkness, this method can change the skin tone of the persons in the image.\\nThis is an unsupervised method and also unconstrained in terms of pose,\\nillumination, number of persons in the image etc. The goal of this work is to\\nreduce the time and effort which is generally required for changing the skin\\ntone using existing applications (e.g., Photoshop) by professionals or novice.\\nTo establish the efficacy of this method we have compared our result with that\\nof some popular photo editor and also with the result of some existing\\nbenchmark method related to human attribute manipulation. Rigorous experiments\\non different datasets show the effectiveness of this method in terms of\\nsynthesizing perceptually convincing outputs.'\n",
            "Label(s): ['cs.CV']\n",
            " \n",
            "Abstract: b'Recently proposed fine-grained 3D visual grounding is an essential and\\nchallenging task, whose goal is to identify the 3D object referred by a natural\\nlanguage sentence from other distractive objects of the same category. Existing\\nworks usually adopt dynamic graph networks to indirectly model the\\nintra/inter-modal interactions, making the model difficult to distinguish the\\nreferred object from distractors due to the monolithic representations of\\nvisual and linguistic contents. In this work, we exploit Transformer for its\\nnatural suitability on permutation-invariant 3D point clouds data and propose a\\nTransRefer3D network to extract entity-and-relation aware multimodal context\\namong objects for more discriminative feature learning. Concretely, we devise\\nan Entity-aware Attention (EA) module and a Relation-aware Attention (RA)\\nmodule to conduct fine-grained cross-modal feature matching. Facilitated by\\nco-attention operation, our EA module matches visual entity features with\\nlinguistic entity features while RA module matches pair-wise visual relation\\nfeatures with linguistic relation features, respectively. We further integrate\\nEA and RA modules into an Entity-and-Relation aware Contextual Block (ERCB) and\\nstack several ERCBs to form our TransRefer3D for hierarchical multimodal\\ncontext modeling. Extensive experiments on both Nr3D and Sr3D datasets\\ndemonstrate that our proposed model significantly outperforms existing\\napproaches by up to 10.6% and claims the new state-of-the-art. To the best of\\nour knowledge, this is the first work investigating Transformer architecture\\nfor fine-grained 3D visual grounding task.'\n",
            "Label(s): ['cs.CV' 'cs.AI']\n",
            " \n",
            "Abstract: b'Of later years, numerous bottom-up attention models have been proposed on\\ndifferent assumptions. However, the produced saliency maps may be different\\nfrom each other even from the same input image. We also observe that human\\nfixation map varies across time greatly. When people freely view an image, they\\ntend to allocate attention at salient regions of large scale at first, and then\\nsearch more and more detailed regions. In this paper, we argue that, for one\\ninput image visual attention cannot be described by only one single saliency\\nmap, and this mechanism should be modeled as a dynamic process. Under the\\nfrequency domain paradigm, we proposed a global inhibition model to mimic this\\nprocess by suppressing the {\\\\it non-saliency} in the input image; we also show\\nthat the dynamic process is influenced by one parameter in the frequency\\ndomain. Experiments illustrate that the proposed model is capable of predicting\\nhuman dynamic fixation distribution.'\n",
            "Label(s): ['cs.CV' 'q-bio.NC']\n",
            " \n",
            "Abstract: b'Two factors have proven to be very important to the performance of semantic\\nsegmentation models: global context and multi-level semantics. However,\\ngenerating features that capture both factors always leads to high\\ncomputational complexity, which is problematic in real-time scenarios. In this\\npaper, we propose a new model, called Attention-Augmented Network (AttaNet), to\\ncapture both global context and multilevel semantics while keeping the\\nefficiency high. AttaNet consists of two primary modules: Strip Attention\\nModule (SAM) and Attention Fusion Module (AFM). Viewing that in challenging\\nimages with low segmentation accuracy, there are a significantly larger amount\\nof vertical strip areas than horizontal ones, SAM utilizes a striping operation\\nto reduce the complexity of encoding global context in the vertical direction\\ndrastically while keeping most of contextual information, compared to the\\nnon-local approaches. Moreover, AFM follows a cross-level aggregation strategy\\nto limit the computation, and adopts an attention strategy to weight the\\nimportance of different levels of features at each pixel when fusing them,\\nobtaining an efficient multi-level representation. We have conducted extensive\\nexperiments on two semantic segmentation benchmarks, and our network achieves\\ndifferent levels of speed/accuracy trade-offs on Cityscapes, e.g., 71 FPS/79.9%\\nmIoU, 130 FPS/78.5% mIoU, and 180 FPS/70.1% mIoU, and leading performance on\\nADE20K as well.'\n",
            "Label(s): ['cs.CV']\n",
            " \n"
          ]
        }
      ],
      "source": [
        "# This code snippet is iterating through batches of the training dataset and printing the abstract text along with the corresponding labels.\n",
        "text_batch, label_batch = next(iter(train_dataset))\n",
        "for i, text in enumerate(text_batch[:5]):\n",
        "    label = label_batch[i].numpy()[None, ...]\n",
        "    print(f\"Abstract: {text}\")\n",
        "    print(f\"Label(s): {invert_multi_hot(label[0])}\")\n",
        "    print(\" \")"
      ]
    },
    {
      "cell_type": "code",
      "execution_count": 18,
      "id": "3881b07a",
      "metadata": {
        "colab": {
          "base_uri": "https://localhost:8080/"
        },
        "id": "3881b07a",
        "outputId": "b6edc231-bc94-4629-985a-6ad042c5850a"
      },
      "outputs": [
        {
          "name": "stdout",
          "output_type": "stream",
          "text": [
            "159072\n"
          ]
        }
      ],
      "source": [
        "# This code calculates the size of the vocabulary in the \"abstracts\" column of the train_df DataFrame.\n",
        "\n",
        "# Creating vocabulary with uniques words\n",
        "vocabulary = set()\n",
        "train_df[\"abstracts\"].str.lower().str.split().apply(vocabulary.update)\n",
        "vocabulary_size = len(vocabulary)\n",
        "print(vocabulary_size)"
      ]
    },
    {
      "cell_type": "markdown",
      "id": "4f8c291e",
      "metadata": {
        "id": "4f8c291e"
      },
      "source": [
        "# Text Vectorization"
      ]
    },
    {
      "cell_type": "code",
      "execution_count": 19,
      "id": "13305e60",
      "metadata": {
        "id": "13305e60"
      },
      "outputs": [],
      "source": [
        "# Initializes a TextVectorization layer\n",
        "text_vectorizer = layers.TextVectorization(max_tokens=vocabulary_size,ngrams=2,output_mode=\"tf_idf\")\n",
        "# `TextVectorization` layer needs to be adapted as per the vocabulary from our\n",
        "# training set.\n",
        "text_vectorizer.adapt(train_dataset.map(lambda text, label: text))"
      ]
    },
    {
      "cell_type": "code",
      "execution_count": 20,
      "id": "6b82682c",
      "metadata": {
        "id": "6b82682c"
      },
      "outputs": [],
      "source": [
        "\"\"\"\n",
        "Mapping Vectorization to Datasets: The code maps the text vectorization operation to\n",
        "each element of the training, validation, and test datasets. This ensures that the text\n",
        "data in each dataset is transformed into numerical vectors using the adapted TextVectorization layer.\n",
        "The num_parallel_calls parameter is used to parallelize the mapping process, and prefetch is\n",
        "applied to prefetch data batches\n",
        "for better performance.\n",
        "\"\"\"\n",
        "train_dataset = train_dataset.map(lambda text, label: (text_vectorizer(text), label), num_parallel_calls=auto).prefetch(auto)\n",
        "validation_dataset = validation_dataset.map(lambda text, label: (text_vectorizer(text), label), num_parallel_calls=auto).prefetch(auto)\n",
        "test_dataset = test_dataset.map(lambda text, label: (text_vectorizer(text), label), num_parallel_calls=auto).prefetch(auto)"
      ]
    },
    {
      "cell_type": "markdown",
      "id": "85485df2",
      "metadata": {
        "id": "85485df2"
      },
      "source": [
        "# model training"
      ]
    },
    {
      "cell_type": "code",
      "execution_count": 21,
      "id": "1595fa1d",
      "metadata": {
        "colab": {
          "base_uri": "https://localhost:8080/"
        },
        "id": "1595fa1d",
        "outputId": "332fa1b1-b91d-4841-a6ab-2e25dae2af5d",
        "scrolled": true
      },
      "outputs": [
        {
          "name": "stdout",
          "output_type": "stream",
          "text": [
            "Epoch 1/20\n",
            "272/272 [==============================] - 242s 880ms/step - loss: 0.0490 - binary_accuracy: 0.9833 - val_loss: 0.0191 - val_binary_accuracy: 0.9945\n",
            "Epoch 2/20\n",
            "272/272 [==============================] - 244s 896ms/step - loss: 0.0176 - binary_accuracy: 0.9950 - val_loss: 0.0183 - val_binary_accuracy: 0.9947\n",
            "Epoch 3/20\n",
            "272/272 [==============================] - 244s 895ms/step - loss: 0.0135 - binary_accuracy: 0.9960 - val_loss: 0.0189 - val_binary_accuracy: 0.9945\n",
            "Epoch 4/20\n",
            "272/272 [==============================] - 244s 898ms/step - loss: 0.0110 - binary_accuracy: 0.9967 - val_loss: 0.0194 - val_binary_accuracy: 0.9945\n",
            "Epoch 5/20\n",
            "272/272 [==============================] - 246s 904ms/step - loss: 0.0094 - binary_accuracy: 0.9972 - val_loss: 0.0200 - val_binary_accuracy: 0.9945\n",
            "Epoch 6/20\n",
            "272/272 [==============================] - 244s 898ms/step - loss: 0.0084 - binary_accuracy: 0.9975 - val_loss: 0.0204 - val_binary_accuracy: 0.9945\n",
            "Epoch 7/20\n",
            "272/272 [==============================] - 245s 900ms/step - loss: 0.0074 - binary_accuracy: 0.9978 - val_loss: 0.0211 - val_binary_accuracy: 0.9946\n"
          ]
        }
      ],
      "source": [
        "# creating shallow_mlp_model  (MLP)\n",
        "from tensorflow.keras.callbacks import EarlyStopping\n",
        "\n",
        "# Creating shallow_mlp_model (MLP) with dropout layers\n",
        "model1 = keras.Sequential([\n",
        "    # First hidden layer: 512 neurons, ReLU activation function, with dropout.\n",
        "    layers.Dense(512, activation=\"relu\"),\n",
        "    layers.Dropout(0.5),  # Adding dropout for regularization.\n",
        "\n",
        "    # Second hidden layer: 256 neurons, ReLU activation function, with dropout.\n",
        "    layers.Dense(256, activation=\"relu\"),\n",
        "    layers.Dropout(0.5),  # Adding dropout for regularization.\n",
        "\n",
        "    # Output layer: The number of neurons equals the vocabulary size (output vocabulary of the StringLookup layer), with a sigmoid activation function.\n",
        "    layers.Dense(lookup.vocabulary_size(), activation='sigmoid')\n",
        "])\n",
        "\n",
        "# Compile the model\n",
        "model1.compile(loss=\"binary_crossentropy\", optimizer='adam', metrics=['binary_accuracy'])\n",
        "\n",
        "# Add early stopping\n",
        "# Number of epochs with no improvement after which training will be stopped.\n",
        "# Restore weights from the epoch with the best value of the monitored quantity.\n",
        "early_stopping = EarlyStopping(patience=5,restore_best_weights=True)\n",
        "\n",
        "# Train the model\n",
        "# Add early stopping callback.verbose=1\n",
        "history = model1.fit(train_dataset,validation_data=validation_dataset,epochs=20,callbacks=[early_stopping])"
      ]
    },
    {
      "cell_type": "code",
      "execution_count": 22,
      "id": "1ccc3be2",
      "metadata": {
        "colab": {
          "base_uri": "https://localhost:8080/",
          "height": 929
        },
        "id": "1ccc3be2",
        "outputId": "7dc7b2c2-4cc9-4006-df0e-13381c0292eb",
        "scrolled": true
      },
      "outputs": [
        {
          "data": {
            "image/png": "[encoded data removed]",
            "text/plain": [
              "<Figure size 640x480 with 1 Axes>"
            ]
          },
          "metadata": {},
          "output_type": "display_data"
        },
        {
          "data": {
            "image/png": "[encoded data removed]",
            "text/plain": [
              "<Figure size 640x480 with 1 Axes>"
            ]
          },
          "metadata": {},
          "output_type": "display_data"
        }
      ],
      "source": [
        "# plotting loss\n",
        "def plot_result(item):\n",
        "    plt.plot(history.history[item], label=item)\n",
        "    plt.plot(history.history[\"val_\" + item], label=\"val_\" + item)\n",
        "    plt.xlabel(\"Epochs\")\n",
        "    plt.ylabel(item)\n",
        "    plt.title(\"Train and Validation {} Over Epochs\".format(item), fontsize=14)\n",
        "    plt.legend()\n",
        "    plt.grid()\n",
        "    plt.show()\n",
        "\n",
        "plot_result(\"loss\")\n",
        "plot_result(\"binary_accuracy\")"
      ]
    },
    {
      "cell_type": "markdown",
      "id": "9864d7ce",
      "metadata": {
        "id": "9864d7ce"
      },
      "source": [
        "# Model Evaluation"
      ]
    },
    {
      "cell_type": "code",
      "execution_count": 23,
      "id": "cebc1c9c",
      "metadata": {
        "colab": {
          "base_uri": "https://localhost:8080/"
        },
        "id": "cebc1c9c",
        "outputId": "e49be698-9843-43ad-e577-41b8078ba5bf"
      },
      "outputs": [
        {
          "name": "stdout",
          "output_type": "stream",
          "text": [
            "16/16 [==============================] - 2s 126ms/step - loss: 0.0178 - binary_accuracy: 0.9946\n",
            "16/16 [==============================] - 2s 123ms/step - loss: 0.0183 - binary_accuracy: 0.9947\n",
            "Categorical accuracy on the test set: 99.46%.\n",
            "Categorical accuracy on the validation set: 99.47%.\n"
          ]
        }
      ],
      "source": [
        "# model evaltuation on test and val dataset\n",
        "_, binary_acc1 = model1.evaluate(test_dataset)\n",
        "_, binary_acc2 = model1.evaluate(validation_dataset)\n",
        "\n",
        "print(f\"Categorical accuracy on the test set: {round(binary_acc1 * 100, 2)}%.\")\n",
        "print(f\"Categorical accuracy on the validation set: {round(binary_acc2 * 100, 2)}%.\")"
      ]
    },
    {
      "cell_type": "markdown",
      "id": "16f447f1",
      "metadata": {
        "id": "16f447f1"
      },
      "source": [
        "# Save Model and Text Vectorizer:"
      ]
    },
    {
      "cell_type": "code",
      "execution_count": 24,
      "id": "4434b752",
      "metadata": {
        "colab": {
          "base_uri": "https://localhost:8080/"
        },
        "id": "4434b752",
        "outputId": "437fb12b-1f8e-4893-e94a-0857a95e0831"
      },
      "outputs": [
        {
          "name": "stderr",
          "output_type": "stream",
          "text": [
            "/home/najnin/.local/lib/python3.10/site-packages/keras/src/engine/training.py:3103: UserWarning: You are saving your model as an HDF5 file via `model.save()`. This file format is considered legacy. We recommend using instead the native Keras format, e.g. `model.save('my_model.keras')`.\n",
            "  saving_api.save_model(\n"
          ]
        }
      ],
      "source": [
        "# Save the model\n",
        "import pickle\n",
        "model1.save(\"models/model.h5\")\n",
        "\n",
        "# Save the configuration of the text vectorizer\n",
        "saved_text_vectorizer_config = text_vectorizer.get_config()\n",
        "with open(\"models/text_vectorizer_config.pkl\", \"wb\") as f:\n",
        "    pickle.dump(saved_text_vectorizer_config, f)\n",
        "\n",
        "\n",
        "# Save the weights of the text vectorizer\n",
        "weights = text_vectorizer.get_weights()\n",
        "with open(\"models/text_vectorizer_weights.pkl\", \"wb\") as f:\n",
        "    pickle.dump(weights, f)\n",
        "\n",
        "\n",
        "# Save the vocabulary\n",
        "with open(\"models/vocab.pkl\", \"wb\") as f:\n",
        "    pickle.dump(vocab, f)"
      ]
    },
    {
      "cell_type": "markdown",
      "id": "fceee66a",
      "metadata": {
        "id": "fceee66a"
      },
      "source": [
        "# Load Model and Text Vectorizer:"
      ]
    },
    {
      "cell_type": "code",
      "execution_count": 25,
      "id": "34e7d7f6",
      "metadata": {
        "colab": {
          "base_uri": "https://localhost:8080/"
        },
        "id": "34e7d7f6",
        "outputId": "58846697-b0f2-4af2-afc6-0cb482aa841a"
      },
      "outputs": [
        {
          "name": "stdout",
          "output_type": "stream",
          "text": [
            "{'name': 'text_vectorization', 'trainable': True, 'dtype': 'string', 'batch_input_shape': (None,), 'max_tokens': 159072, 'standardize': 'lower_and_strip_punctuation', 'split': 'whitespace', 'ngrams': 2, 'output_mode': 'tf_idf', 'output_sequence_length': None, 'pad_to_max_tokens': False, 'sparse': False, 'ragged': False, 'vocabulary': None, 'idf_weights': None, 'encoding': 'utf-8', 'vocabulary_size': 159072}\n",
            "[array([7.8524604, 0.6955014, 0.7018959, ..., 8.846382 , 8.846382 ,\n",
            "       8.846382 ], dtype=float32), array([b'the', b'of', b'and', ..., b'shows stable', b'shows no',\n",
            "       b'shows favorable'], dtype=object), 0]\n"
          ]
        }
      ],
      "source": [
        "print(saved_text_vectorizer_config)\n",
        "print(weights)"
      ]
    },
    {
      "cell_type": "code",
      "execution_count": 26,
      "id": "27e3fe39",
      "metadata": {
        "id": "27e3fe39"
      },
      "outputs": [],
      "source": [
        "# prompt: load model and text vectorizer\n",
        "\n",
        "# Load the model\n",
        "loaded_model = keras.models.load_model(\"models/model.h5\")\n",
        "\n",
        "# Load the text vectorizer configuration\n",
        "with open(\"models/text_vectorizer_config.pkl\", \"rb\") as f:\n",
        "    saved_text_vectorizer_config = pickle.load(f)\n",
        "\n",
        "# Load the text vectorizer weights\n",
        "with open(\"models/text_vectorizer_weights.pkl\", \"rb\") as f:\n",
        "    weights = pickle.load(f)\n",
        "\n",
        "# Initialize the text vectorizer with the loaded configuration and weights\n",
        "loaded_text_vectorizer = layers.TextVectorization.from_config(saved_text_vectorizer_config)\n",
        "loaded_text_vectorizer.set_weights(weights)\n",
        "# Load the vocabulary\n",
        "with open(\"models/vocab.pkl\", \"rb\") as f:\n",
        "    loaded_vocab = pickle.load(f)\n"
      ]
    },
    {
      "cell_type": "markdown",
      "id": "506f9a17",
      "metadata": {
        "id": "506f9a17"
      },
      "source": [
        "# Model Prediction"
      ]
    },
    {
      "cell_type": "code",
      "execution_count": 27,
      "id": "8e2985e7",
      "metadata": {
        "id": "8e2985e7"
      },
      "outputs": [],
      "source": [
        "def invert_multi_hot(encoded_labels):\n",
        "    \"\"\"Reverse a single multi-hot encoded label to a tuple of vocab terms.\"\"\"\n",
        "    hot_indices = np.argwhere(encoded_labels == 1.0)[..., 0]\n",
        "    return np.take(loaded_vocab, hot_indices)"
      ]
    },
    {
      "cell_type": "code",
      "execution_count": 28,
      "id": "76f5b374",
      "metadata": {
        "id": "76f5b374"
      },
      "outputs": [],
      "source": [
        "def predict_category(abstract, model, vectorizer, label_lookup):\n",
        "    # Preprocess the abstract using the loaded text vectorizer\n",
        "    preprocessed_abstract = vectorizer([abstract])\n",
        "\n",
        "    # Make predictions using the loaded model\n",
        "    predictions = model.predict(preprocessed_abstract)\n",
        "\n",
        "    # Convert predictions to human-readable labels\n",
        "    predicted_labels = label_lookup(np.round(predictions).astype(int)[0])\n",
        "\n",
        "    return predicted_labels"
      ]
    },
    {
      "cell_type": "code",
      "execution_count": 29,
      "id": "6f91a6e8",
      "metadata": {
        "colab": {
          "base_uri": "https://localhost:8080/"
        },
        "id": "6f91a6e8",
        "outputId": "ab8cee55-fad9-40e1-c54f-3540a64483d6"
      },
      "outputs": [
        {
          "name": "stdout",
          "output_type": "stream",
          "text": [
            "1/1 [==============================] - 0s 113ms/step\n",
            "Predicted Categories: ['cs.LG' 'stat.ML']\n"
          ]
        }
      ],
      "source": [
        "# Example usage\n",
        "new_abstract = \"Graph neural networks (GNNs) have been widely used to learn vector\\nrepresentation of graph-structured data and achieved better task performance\\nthan conventional methods. The foundation of GNNs is the message passing\\nprocedure, which propagates the information in a node to its neighbors. Since\\nthis procedure proceeds one step per layer, the range of the information\\npropagation among nodes is small in the lower layers, and it expands toward the\\nhigher layers. Therefore, a GNN model has to be deep enough to capture global\\nstructural information in a graph. On the other hand, it is known that deep GNN\\nmodels suffer from performance degradation because they lose nodes' local\\ninformation, which would be essential for good model performance, through many\\nmessage passing steps. In this study, we propose multi-level attention pooling\\n(MLAP) for graph-level classification tasks, which can adapt to both local and\\nglobal structural information in a graph. It has an attention pooling layer for\\neach message passing step and computes the final graph representation by\\nunifying the layer-wise graph representations. The MLAP architecture allows\\nmodels to utilize the structural information of graphs with multiple levels of\\nlocalities because it preserves layer-wise information before losing them due\\nto oversmoothing. Results of our experiments show that the MLAP architecture\\nimproves the graph classification performance compared to the baseline\\narchitectures. In addition, analyses on the layer-wise graph representations\\nsuggest that aggregating information from multiple levels of localities indeed\\nhas the potential to improve the discriminability of learned graph\\nrepresentations.\"\n",
        "predicted_categories = predict_category(new_abstract, loaded_model, loaded_text_vectorizer, invert_multi_hot)\n",
        "print(\"Predicted Categories:\", predicted_categories)\n"
      ]
    },
    {
      "cell_type": "code",
      "execution_count": 30,
      "id": "e13ef48a",
      "metadata": {
        "colab": {
          "base_uri": "https://localhost:8080/"
        },
        "id": "e13ef48a",
        "outputId": "bd5fb3e2-0b51-4668-90ac-5677ac43ca1a"
      },
      "outputs": [
        {
          "name": "stdout",
          "output_type": "stream",
          "text": [
            "1/1 [==============================] - 0s 39ms/step\n",
            "Predicted Categories: ['cs.LG']\n"
          ]
        }
      ],
      "source": [
        "# Example usage\n",
        "new_abstract = 'Deep networks and decision forests (such as random forests and gradient\\nboosted trees) are the leading machine learning methods for structured and\\ntabular data, respectively. Many papers have empirically compared large numbers\\nof classifiers on one or two different domains (e.g., on 100 different tabular\\ndata settings). However, a careful conceptual and empirical comparison of these\\ntwo strategies using the most contemporary best practices has yet to be\\nperformed. Conceptually, we illustrate that both can be profitably viewed as\\n\"partition and vote\" schemes. Specifically, the representation space that they\\nboth learn is a partitioning of feature space into a union of convex polytopes.\\nFor inference, each decides on the basis of votes from the activated nodes.\\nThis formulation allows for a unified basic understanding of the relationship\\nbetween these methods. Empirically, we compare these two strategies on hundreds\\nof tabular data settings, as well as several vision and auditory settings. Our\\nfocus is on datasets with at most 10,000 samples, which represent a large\\nfraction of scientific and biomedical datasets. In general, we found forests to\\nexcel at tabular and structured data (vision and audition) with small sample\\nsizes, whereas deep nets performed better on structured data with larger sample\\nsizes. This suggests that further gains in both scenarios may be realized via\\nfurther combining aspects of forests and networks. We will continue revising\\nthis technical report in the coming months with updated results.'\n",
        "predicted_categories = predict_category(new_abstract, loaded_model, loaded_text_vectorizer, invert_multi_hot)\n",
        "print(\"Predicted Categories:\", predicted_categories)"
      ]
    },
    {
      "cell_type": "code",
      "execution_count": 31,
      "id": "77b90c6e",
      "metadata": {
        "id": "77b90c6e"
      },
      "outputs": [],
      "source": [
        "# great resutls..................................."
      ]
    },
    {
      "cell_type": "markdown",
      "id": "b5c90e37",
      "metadata": {
        "id": "b5c90e37"
      },
      "source": [
        "# =======Section 2========"
      ]
    },
    {
      "cell_type": "markdown",
      "id": "cecfe2d1",
      "metadata": {
        "id": "cecfe2d1"
      },
      "source": [
        "# 2 Recommendation System"
      ]
    },
    {
      "cell_type": "code",
      "execution_count": 32,
      "id": "08b0ebec",
      "metadata": {
        "id": "08b0ebec"
      },
      "outputs": [],
      "source": [
        "arxiv_data.drop(columns = [\"terms\",\"abstracts\"], inplace = True)"
      ]
    },
    {
      "cell_type": "code",
      "execution_count": 33,
      "id": "c94e6f2f",
      "metadata": {
        "id": "c94e6f2f"
      },
      "outputs": [],
      "source": [
        "arxiv_data.drop_duplicates(inplace= True)\n",
        "arxiv_data.reset_index(drop= True,inplace = True)"
      ]
    },
    {
      "cell_type": "code",
      "execution_count": 34,
      "id": "8ca5e456",
      "metadata": {
        "colab": {
          "base_uri": "https://localhost:8080/",
          "height": 424
        },
        "id": "8ca5e456",
        "outputId": "b81ea4cb-efd0-44e2-b36d-fa0e8b325d01"
      },
      "outputs": [
        {
          "data": {
            "text/html": [
              "<div>\n",
              "<style scoped>\n",
              "    .dataframe tbody tr th:only-of-type {\n",
              "        vertical-align: middle;\n",
              "    }\n",
              "\n",
              "    .dataframe tbody tr th {\n",
              "        vertical-align: top;\n",
              "    }\n",
              "\n",
              "    .dataframe thead th {\n",
              "        text-align: right;\n",
              "    }\n",
              "</style>\n",
              "<table border=\"1\" class=\"dataframe\">\n",
              "  <thead>\n",
              "    <tr style=\"text-align: right;\">\n",
              "      <th></th>\n",
              "      <th>titles</th>\n",
              "    </tr>\n",
              "  </thead>\n",
              "  <tbody>\n",
              "    <tr>\n",
              "      <th>0</th>\n",
              "      <td>Multi-Level Attention Pooling for Graph Neural Networks: Unifying Graph Representations with Multiple Localities</td>\n",
              "    </tr>\n",
              "    <tr>\n",
              "      <th>1</th>\n",
              "      <td>Decision Forests vs. Deep Networks: Conceptual Similarities and Empirical Differences at Small Sample Sizes</td>\n",
              "    </tr>\n",
              "    <tr>\n",
              "      <th>2</th>\n",
              "      <td>Power up! Robust Graph Convolutional Network via Graph Powering</td>\n",
              "    </tr>\n",
              "    <tr>\n",
              "      <th>3</th>\n",
              "      <td>Releasing Graph Neural Networks with Differential Privacy Guarantees</td>\n",
              "    </tr>\n",
              "    <tr>\n",
              "      <th>4</th>\n",
              "      <td>Recurrence-Aware Long-Term Cognitive Network for Explainable Pattern Classification</td>\n",
              "    </tr>\n",
              "    <tr>\n",
              "      <th>...</th>\n",
              "      <td>...</td>\n",
              "    </tr>\n",
              "    <tr>\n",
              "      <th>41100</th>\n",
              "      <td>An experimental study of graph-based semi-supervised classification with additional node information</td>\n",
              "    </tr>\n",
              "    <tr>\n",
              "      <th>41101</th>\n",
              "      <td>Bayesian Differential Privacy through Posterior Sampling</td>\n",
              "    </tr>\n",
              "    <tr>\n",
              "      <th>41102</th>\n",
              "      <td>Mining Spatio-temporal Data on Industrialization from Historical Registries</td>\n",
              "    </tr>\n",
              "    <tr>\n",
              "      <th>41103</th>\n",
              "      <td>Wav2Letter: an End-to-End ConvNet-based Speech Recognition System</td>\n",
              "    </tr>\n",
              "    <tr>\n",
              "      <th>41104</th>\n",
              "      <td>Generalized Low Rank Models</td>\n",
              "    </tr>\n",
              "  </tbody>\n",
              "</table>\n",
              "<p>41105 rows × 1 columns</p>\n",
              "</div>"
            ],
            "text/plain": [
              "                                                                                                                 titles\n",
              "0      Multi-Level Attention Pooling for Graph Neural Networks: Unifying Graph Representations with Multiple Localities\n",
              "1           Decision Forests vs. Deep Networks: Conceptual Similarities and Empirical Differences at Small Sample Sizes\n",
              "2                                                       Power up! Robust Graph Convolutional Network via Graph Powering\n",
              "3                                                  Releasing Graph Neural Networks with Differential Privacy Guarantees\n",
              "4                                   Recurrence-Aware Long-Term Cognitive Network for Explainable Pattern Classification\n",
              "...                                                                                                                 ...\n",
              "41100              An experimental study of graph-based semi-supervised classification with additional node information\n",
              "41101                                                          Bayesian Differential Privacy through Posterior Sampling\n",
              "41102                                       Mining Spatio-temporal Data on Industrialization from Historical Registries\n",
              "41103                                                 Wav2Letter: an End-to-End ConvNet-based Speech Recognition System\n",
              "41104                                                                                       Generalized Low Rank Models\n",
              "\n",
              "[41105 rows x 1 columns]"
            ]
          },
          "execution_count": 34,
          "metadata": {},
          "output_type": "execute_result"
        }
      ],
      "source": [
        "pd.set_option('display.max_colwidth', None)\n",
        "arxiv_data"
      ]
    },
    {
      "cell_type": "markdown",
      "id": "95b71915",
      "metadata": {
        "id": "95b71915"
      },
      "source": [
        "# Sentence Transformers"
      ]
    },
    {
      "cell_type": "code",
      "execution_count": 35,
      "id": "5712474f",
      "metadata": {
        "id": "5712474f"
      },
      "outputs": [],
      "source": [
        "#!pip install -U -q sentence-transformers"
      ]
    },
    {
      "cell_type": "code",
      "execution_count": 36,
      "id": "514a5734",
      "metadata": {
        "colab": {
          "base_uri": "https://localhost:8080/",
          "height": 246
        },
        "id": "514a5734",
        "outputId": "2f887b92-5e23-4d14-923d-fdb85e3f5296"
      },
      "outputs": [
        {
          "name": "stderr",
          "output_type": "stream",
          "text": [
            "/home/najnin/.local/lib/python3.10/site-packages/sentence_transformers/cross_encoder/CrossEncoder.py:11: TqdmWarning: IProgress not found. Please update jupyter and ipywidgets. See https://ipywidgets.readthedocs.io/en/stable/user_install.html\n",
            "  from tqdm.autonotebook import tqdm, trange\n",
            "/home/najnin/.local/lib/python3.10/site-packages/huggingface_hub/file_download.py:1132: FutureWarning: `resume_download` is deprecated and will be removed in version 1.0.0. Downloads always resume when possible. If you want to force a new download, use `force_download=True`.\n",
            "  warnings.warn(\n"
          ]
        },
        {
          "data": {
            "text/plain": [
              "'\\nThe embeddings can be used for various natural language processing (NLP) tasks,\\nsuch as similarity search, clustering\\n'"
            ]
          },
          "execution_count": 36,
          "metadata": {},
          "output_type": "execute_result"
        }
      ],
      "source": [
        "# This imports the SentenceTransformer class from the Sentence Transformers library.\n",
        "from sentence_transformers import SentenceTransformer, util\n",
        "# we load all-MiniLM-L6-v2, which is a MiniLM model fine tuned on a large dataset of over\n",
        "# 1 billion training pairs.\n",
        "#This initializes the 'all-MiniLM-L6-v2' model from Sentence Transformers.\n",
        "# This model is capable of encoding sentences into fixed-size vectors (embeddings).\n",
        "model = SentenceTransformer('all-MiniLM-L6-v2')\n",
        "#Our sentences we like to encode\n",
        "sentences = arxiv_data['titles']\n",
        "#Sentences are encoded by calling model.encode()\n",
        "embeddings = model.encode(sentences)\n",
        "\n",
        "\"\"\"\n",
        "The embeddings can be used for various natural language processing (NLP) tasks,\n",
        "such as similarity search, clustering\n",
        "\"\"\""
      ]
    },
    {
      "cell_type": "code",
      "execution_count": 38,
      "id": "c502c4e0",
      "metadata": {
        "colab": {
          "base_uri": "https://localhost:8080/"
        },
        "id": "c502c4e0",
        "outputId": "71fe8446-05f7-4984-a647-2e6568d8030c"
      },
      "outputs": [
        {
          "data": {
            "text/plain": [
              "array([[ 0.06643411, -0.04954598,  0.06388082, ...,  0.00106297,\n",
              "        -0.12156384, -0.06962778],\n",
              "       [ 0.0921226 , -0.07606938,  0.06572865, ..., -0.0856517 ,\n",
              "        -0.09266545,  0.00725295],\n",
              "       [-0.08162681,  0.02428927,  0.01888743, ...,  0.00806166,\n",
              "        -0.05129531, -0.05873994],\n",
              "       ...,\n",
              "       [ 0.01227982, -0.08568833, -0.02782776, ..., -0.05257972,\n",
              "        -0.10806689,  0.07843313],\n",
              "       [-0.07258198, -0.12690917, -0.00535556, ...,  0.03597699,\n",
              "        -0.03986149, -0.05971029],\n",
              "       [ 0.00768868, -0.10124182,  0.08909856, ..., -0.08199871,\n",
              "        -0.05649743,  0.09007054]], dtype=float32)"
            ]
          },
          "execution_count": 38,
          "metadata": {},
          "output_type": "execute_result"
        }
      ],
      "source": [
        "embeddings"
      ]
    },
    {
      "cell_type": "markdown",
      "id": "db125c7d",
      "metadata": {
        "id": "db125c7d"
      },
      "source": [
        "# Why select all-MiniLM-L6-v2?\n",
        "\n",
        "All-round model tuned for many use-cases. Trained on a large and diverse dataset of over 1 billion training pairs. Source\n",
        "\n",
        "Its small in size 80 MB with good performance."
      ]
    },
    {
      "cell_type": "markdown",
      "id": "355ffc70",
      "metadata": {
        "id": "355ffc70"
      },
      "source": [
        "# Print the embeddings"
      ]
    },
    {
      "cell_type": "code",
      "execution_count": 39,
      "id": "0af0618d",
      "metadata": {
        "colab": {
          "base_uri": "https://localhost:8080/"
        },
        "id": "0af0618d",
        "outputId": "cd545563-5966-4f5c-d9d5-5c4edb026636"
      },
      "outputs": [
        {
          "name": "stdout",
          "output_type": "stream",
          "text": [
            "Sentence: Multi-Level Attention Pooling for Graph Neural Networks: Unifying Graph Representations with Multiple Localities\n",
            "Embedding length: 384\n",
            "\n",
            "Sentence: Decision Forests vs. Deep Networks: Conceptual Similarities and Empirical Differences at Small Sample Sizes\n",
            "Embedding length: 384\n",
            "\n",
            "Sentence: Power up! Robust Graph Convolutional Network via Graph Powering\n",
            "Embedding length: 384\n",
            "\n",
            "Sentence: Releasing Graph Neural Networks with Differential Privacy Guarantees\n",
            "Embedding length: 384\n",
            "\n",
            "Sentence: Recurrence-Aware Long-Term Cognitive Network for Explainable Pattern Classification\n",
            "Embedding length: 384\n",
            "\n",
            "Sentence: Lifelong Graph Learning\n",
            "Embedding length: 384\n",
            "\n"
          ]
        }
      ],
      "source": [
        "c = 0\n",
        "#This loop iterates over pairs of sentences and their corresponding embeddings.\n",
        "#zip is used to iterate over both lists simultaneously.\n",
        "for sentence, embedding in zip(sentences, embeddings):\n",
        "    print(\"Sentence:\", sentence)\n",
        "    print(\"Embedding length:\", len(embedding)) # list of floats\n",
        "    print(\"\")\n",
        "    # Breaks out of the loop after printing information for the first 5 sentences.\n",
        "    if c >=5:\n",
        "        break\n",
        "    c +=1"
      ]
    },
    {
      "cell_type": "markdown",
      "id": "f5cdb484",
      "metadata": {
        "id": "f5cdb484"
      },
      "source": [
        "# Save files"
      ]
    },
    {
      "cell_type": "code",
      "execution_count": 40,
      "id": "a802f9f1",
      "metadata": {
        "id": "a802f9f1"
      },
      "outputs": [],
      "source": [
        "import pickle\n",
        "# Saving sentences and corresponding embeddings\n",
        "with open('models/embeddings.pkl', 'wb') as f:\n",
        "    pickle.dump(embeddings, f)\n",
        "\n",
        "with open('models/sentences.pkl', 'wb') as f:\n",
        "    pickle.dump(sentences, f)\n",
        "\n",
        "with open('models/rec_model.pkl', 'wb') as f:\n",
        "    pickle.dump(model, f)"
      ]
    },
    {
      "cell_type": "markdown",
      "id": "1dcea57f",
      "metadata": {
        "id": "1dcea57f"
      },
      "source": [
        "# Recommendation for similar papers"
      ]
    },
    {
      "cell_type": "code",
      "execution_count": 41,
      "id": "dcb1a450",
      "metadata": {
        "id": "dcb1a450"
      },
      "outputs": [],
      "source": [
        "# load save files\n",
        "embeddings = pickle.load(open('models/embeddings.pkl','rb'))\n",
        "sentences = pickle.load(open('models/sentences.pkl','rb'))\n",
        "rec_model = pickle.load(open('models/rec_model.pkl','rb'))"
      ]
    },
    {
      "cell_type": "code",
      "execution_count": 42,
      "id": "84ffe218",
      "metadata": {
        "id": "84ffe218"
      },
      "outputs": [],
      "source": [
        "import torch\n",
        "\n",
        "def recommendation(input_paper):\n",
        "    # Calculate cosine similarity scores between the embeddings of input_paper and all papers in the dataset.\n",
        "    cosine_scores = util.cos_sim(embeddings, rec_model.encode(input_paper))\n",
        "\n",
        "    # Get the indices of the top-k most similar papers based on cosine similarity.\n",
        "    top_similar_papers = torch.topk(cosine_scores, dim=0, k=5, sorted=True)\n",
        "\n",
        "    # Retrieve the titles of the top similar papers.\n",
        "    papers_list = []\n",
        "    for i in top_similar_papers.indices:\n",
        "        papers_list.append(sentences[i.item()])\n",
        "\n",
        "    return papers_list\n"
      ]
    },
    {
      "cell_type": "code",
      "execution_count": 43,
      "id": "12c90388",
      "metadata": {
        "colab": {
          "base_uri": "https://localhost:8080/"
        },
        "id": "12c90388",
        "outputId": "6d21e59e-187e-4342-819c-6d81e3a8704c"
      },
      "outputs": [
        {
          "name": "stdout",
          "output_type": "stream",
          "text": [
            "We recommend to read this paper............\n",
            "=============================================\n",
            "Accelerating Training of Transformer-Based Language Models with Progressive Layer Dropping\n",
            "TxT: Crossmodal End-to-End Learning with Transformers\n",
            "Survey: Transformer based Video-Language Pre-training\n",
            "Dynamic Evaluation of Transformer Language Models\n",
            "Primer: Searching for Efficient Transformers for Language Modeling\n"
          ]
        }
      ],
      "source": [
        "# exampel usage 1: (use this paper as input (Attention is All you Need))\n",
        "input_paper = input(\"Enter the title of any paper you like\")\n",
        "recommend_papers = recommendation(input_paper)\n",
        "\n",
        "\n",
        "print(\"We recommend to read this paper............\")\n",
        "print(\"=============================================\")\n",
        "for paper in recommend_papers:\n",
        "    print(paper)"
      ]
    },
    {
      "cell_type": "code",
      "execution_count": 44,
      "id": "92d70ed0",
      "metadata": {
        "colab": {
          "base_uri": "https://localhost:8080/"
        },
        "id": "92d70ed0",
        "outputId": "57809235-1e4d-47c3-e7a3-dec63ef5d87a"
      },
      "outputs": [
        {
          "name": "stdout",
          "output_type": "stream",
          "text": [
            "Enter the title of any paper you likeBERT: Pre-training of Deep Bidirectional Transformers for Language Understanding\n",
            "We recommend to read this paper............\n",
            "=============================================\n",
            "BEiT: BERT Pre-Training of Image Transformers\n",
            "VL-BERT: Pre-training of Generic Visual-Linguistic Representations\n",
            "Sketch-BERT: Learning Sketch Bidirectional Encoder Representation from Transformers by Self-supervised Learning of Sketch Gestalt\n",
            "Seeing Out of tHe bOx: End-to-End Pre-training for Vision-Language Representation Learning\n",
            "Accelerating Training of Transformer-Based Language Models with Progressive Layer Dropping\n"
          ]
        }
      ],
      "source": [
        "# exampel usage 2: (use this paper as input (BERT: Pre-training of Deep Bidirectional Transformers for Language Understanding))\n",
        "input_paper = input(\"Enter the title of any paper you like\")\n",
        "recommend_papers = recommendation(input_paper)\n",
        "\n",
        "\n",
        "print(\"We recommend to read this paper............\")\n",
        "print(\"=============================================\")\n",
        "for paper in recommend_papers:\n",
        "    print(paper)"
      ]
    },
    {
      "cell_type": "code",
      "execution_count": 44,
      "id": "fe398bb9",
      "metadata": {
        "id": "fe398bb9"
      },
      "outputs": [
        {
          "name": "stdout",
          "output_type": "stream",
          "text": [
            "We recommend to read this paper............\n",
            "=============================================\n",
            "A Review of Deep Learning with Special Emphasis on Architectures, Applications and Recent Trends\n",
            "Review of Deep Learning\n",
            "Deep Convolutional Neural Networks: A survey of the foundations, selected improvements, and some current applications\n",
            "A Survey of the Recent Architectures of Deep Convolutional Neural Networks\n",
            "A Survey of Convolutional Neural Networks: Analysis, Applications, and Prospects\n"
          ]
        }
      ],
      "source": [
        "# exampel usage 3: (use this paper as input (Review of deep learning: concepts, CNN architectures, challenges, applications, future directions))\n",
        "input_paper = input(\"Enter the title of any paper you like\")\n",
        "recommend_papers = recommendation(input_paper)\n",
        "\n",
        "\n",
        "print(\"We recommend to read this paper............\")\n",
        "print(\"=============================================\")\n",
        "for paper in recommend_papers:\n",
        "    print(paper)"
      ]
    },
    {
      "cell_type": "code",
      "execution_count": 45,
      "id": "026a1eb1",
      "metadata": {
        "id": "026a1eb1"
      },
      "outputs": [
        {
          "name": "stdout",
          "output_type": "stream",
          "text": [
            "2.0.1+cu117\n",
            "3.0.1\n",
            "2.15.0\n"
          ]
        },
        {
          "ename": "",
          "evalue": "",
          "output_type": "error",
          "traceback": [
            "\u001b[1;31mThe Kernel crashed while executing code in the current cell or a previous cell. \n",
            "\u001b[1;31mPlease review the code in the cell(s) to identify a possible cause of the failure. \n",
            "\u001b[1;31mClick <a href='https://aka.ms/vscodeJupyterKernelCrash'>here</a> for more info. \n",
            "\u001b[1;31mView Jupyter <a href='command:jupyter.viewOutput'>log</a> for further details."
          ]
        }
      ],
      "source": [
        "# install this versions\n",
        "import sentence_transformers\n",
        "import tensorflow\n",
        "import torch\n",
        "print(torch.__version__)\n",
        "print(sentence_transformers.__version__)\n",
        "print(tensorflow.__version__)"
      ]
    },
    {
      "cell_type": "code",
      "execution_count": null,
      "id": "813491da",
      "metadata": {
        "id": "813491da"
      },
      "outputs": [],
      "source": []
    }
  ],
  "metadata": {
    "accelerator": "GPU",
    "colab": {
      "gpuType": "T4",
      "provenance": []
    },
    "kernelspec": {
      "display_name": "Python 3",
      "name": "python3"
    },
    "language_info": {
      "codemirror_mode": {
        "name": "ipython",
        "version": 3
      },
      "file_extension": ".py",
      "mimetype": "text/x-python",
      "name": "python",
      "nbconvert_exporter": "python",
      "pygments_lexer": "ipython3",
      "version": "3.10.12"
    }
  },
  "nbformat": 4,
  "nbformat_minor": 5
}
